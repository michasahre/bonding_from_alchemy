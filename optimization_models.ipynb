{
 "cells": [
  {
   "cell_type": "code",
   "execution_count": 10,
   "id": "8e4cfca0-1479-48b3-b14f-78564e0e536c",
   "metadata": {},
   "outputs": [],
   "source": [
    "import pandas as pd\n",
    "import numpy as np\n",
    "from scipy.optimize import curve_fit\n",
    "from matplotlib import pyplot as plt\n",
    "from ase.units import Bohr\n",
    "import pandas as pd"
   ]
  },
  {
   "cell_type": "code",
   "execution_count": 79,
   "id": "616d352e-bfbc-43fc-b2a5-7a02822212be",
   "metadata": {},
   "outputs": [],
   "source": [
    "class BDE():\n",
    "    \"\"\"\n",
    "    fit binding energies to different models\n",
    "    \"\"\"\n",
    "    def __init__(self,bfe, bde, ebfe, nbfe, Z1, Z2, xdata):\n",
    "        self.bfe = bfe\n",
    "        self.bde = bde\n",
    "        self.ebfe = ebfe\n",
    "        self.nbfe = nbfe\n",
    "        self.ebde = -ebfe\n",
    "        self.nbde = -nbfe\n",
    "        self.Z1 = Z1\n",
    "        self.Z2 = Z2\n",
    "        self.xdata = xdata\n",
    "        \n",
    "    @classmethod\n",
    "    def fromdict(cls, datadict):\n",
    "        # get units\n",
    "        if 'unit' in datadict.keys():\n",
    "            e_unit = datadict['unit']\n",
    "        else:\n",
    "            e_unit = 1 # use Hartree as energy unit\n",
    "            \n",
    "        # bond energy\n",
    "        bfe = np.array(datadict['bfe'])*e_unit # homolytic set to default\n",
    "        bde = -bfe\n",
    "        \n",
    "        # nuclear charges\n",
    "        Z1 = np.array(datadict['Z1'])\n",
    "        Z2 = np.array(datadict['Z2'])\n",
    "        \n",
    "        # nuclear repulsion\n",
    "        if 'nbfe' in datadict.keys():\n",
    "            nbfe = np.array(datadict['nbfe'])*e_unit\n",
    "        else:\n",
    "            nbfe = Z1*Z2*e_unit\n",
    "            \n",
    "        # electronic bond energy\n",
    "        ebfe = bfe - nbfe\n",
    "        \n",
    "        # xdata\n",
    "        xdata = np.array([Z1, Z2]).T\n",
    "        return(cls(bfe, bde, ebfe, nbfe, Z1, Z2, xdata))\n",
    "    \n",
    "    def linear_fit(self):\n",
    "        self.linear_params, mae_waste, self.linear_rank, self.linear_sg = np.linalg.lstsq(self.get_coeff_mat(), self.bde-self.nbde, rcond=None)\n",
    "        self.ebde_fitted = self.linear_params@self.coeff_mat.T\n",
    "        # self.bfe_fitted = self.ebfe_fitted + self.nbfe\n",
    "        self.bde_fitted = self.ebde_fitted + self.nbde\n",
    "        self.linear_mae = np.abs(self.bde_fitted - self.bde).mean()\n",
    "    \n",
    "    def get_coeff_mat(self):\n",
    "        \"\"\"\n",
    "        matrix with coefficients for linear fit\n",
    "        \"\"\"\n",
    "        \n",
    "        unique_Z = np.sort(np.unique(np.concatenate((self.Z1, self.Z2))))\n",
    "        index_a = dict(zip(unique_Z, np.arange(len(unique_Z))))\n",
    "        index_b = dict(zip(unique_Z, np.arange(len(unique_Z), 2*len(unique_Z))))\n",
    "        coeff_mat = np.zeros((len(self.Z1), 2*len(unique_Z))) # there are two parameters for every element\n",
    "        \n",
    "        for row, Z1, Z2 in zip(range(len(self.Z1)), self.Z1, self.Z2):\n",
    "            # coefficients for Z1\n",
    "            coeff_mat[row, index_a[Z1]] += 1\n",
    "            coeff_mat[row, index_b[Z1]] += Z2\n",
    "            # coefficients for Z2\n",
    "            coeff_mat[row, index_a[Z2]] += 1\n",
    "            coeff_mat[row, index_b[Z2]] += Z1\n",
    "            \n",
    "        self.coeff_mat = coeff_mat\n",
    "        return(self.coeff_mat)\n",
    "\n",
    "    def non_linear_fit(self, model, p0 = None):\n",
    "        if p0 is not None:\n",
    "            self.params = curve_fit(model, self.xdata, self.bde, p0, maxfev=100000)\n",
    "        else:\n",
    "            self.params = curve_fit(model, self.xdata, self.bde)\n",
    "        \n",
    "        self.bde_fitted = model(self.xdata, *self.params[0])\n",
    "        # self.bde_fitted = self.ebde_fitted + self.nbde\n",
    "        self.mae = np.abs(self.bde_fitted-self.bde).mean()"
   ]
  },
  {
   "cell_type": "markdown",
   "id": "e22ba407-6e7f-4dec-8f1e-b7007f850099",
   "metadata": {},
   "source": [
    "### load data"
   ]
  },
  {
   "cell_type": "code",
   "execution_count": null,
   "id": "b978d81a-7f82-4b7f-b313-8a737c6f74f7",
   "metadata": {},
   "outputs": [],
   "source": [
    "data = pd.read_csv('./binding_energies_pbe0.csv')\n",
    "\n",
    "data_2 = data.loc[(data['Z1'] >= 6) & (data['Z1'] <= 9) & (data['Z2'] >= 6) & (data['Z2'] <= 9)].to_dict('list')\n",
    "data_3 = data.loc[(data['Z1'] >= 14) & (data['Z2'] >= 14) & (data['Z1'] <= 17) & (data['Z2'] <= 17)].to_dict('list')\n",
    "data_4 = data.loc[(data['Z1'] >= 32) & (data['Z2'] >= 32) & (data['Z1'] <= 35) & (data['Z2'] <= 35)].to_dict('list')\n",
    "\n",
    "for d in [data_2, data_3, data_4]:\n",
    "    d['unit'] = 630\n",
    "    d['bfe type'] = 'homo'\n",
    "    # nuclear repulsion contribution to binding energy\n",
    "    d_bohr = (np.array(d['d'])/Bohr).mean()\n",
    "    d['nbfe'] = np.array(d['Z1'])*np.array(d['Z2'])/d_bohr"
   ]
  },
  {
   "cell_type": "markdown",
   "id": "00b95f0a-a01c-4e5e-969d-ab26f802c72f",
   "metadata": {},
   "source": [
    "### Optimize parameters of linear model Eq. (12)\n"
   ]
  },
  {
   "cell_type": "code",
   "execution_count": null,
   "id": "bbdfa593-1e70-4358-9ae9-6ca9db62dd86",
   "metadata": {},
   "outputs": [],
   "source": [
    "b2 = BDE.fromdict(data_2)\n",
    "b3 = BDE.fromdict(data_3)\n",
    "b4 = BDE.fromdict(data_4)\n",
    "for b in [b2, b3, b4]:\n",
    "    b.linear_fit()\n",
    "    rounded_MAE = np.round((np.abs(b.bde-b.bde_fitted)).mean(),2)\n",
    "    rounded_MAE_std = np.round(rounded_MAE/b.bde.std(), 2)\n",
    "    print(f'MAE = {rounded_MAE} ({rounded_MAE_std})')"
   ]
  },
  {
   "cell_type": "code",
   "execution_count": null,
   "id": "c3911d46-81f5-42d4-9472-0b7f530a3014",
   "metadata": {},
   "outputs": [],
   "source": [
    "# parameters of the model\n",
    "for b in [b2, b3, b4]:\n",
    "    print('###############')\n",
    "    print(np.round(b.linear_params,2)[:4])\n",
    "    print(np.round(b.linear_params,2)[4:])"
   ]
  },
  {
   "cell_type": "markdown",
   "id": "6cc467bd-5d95-4f9a-b8af-c937f02b15ac",
   "metadata": {},
   "source": [
    "### Optimize parameters of Eq. (18)\n"
   ]
  },
  {
   "cell_type": "code",
   "execution_count": null,
   "id": "ab7c12ed-62d1-46ca-a5f5-98c9535d6baa",
   "metadata": {},
   "outputs": [],
   "source": [
    "def non_linear_model_eq18(var, a, b, c):\n",
    "    Z1, Z2 = var.T\n",
    "    bde = a**2 - b**2*Z1*Z2 + c**2*(Z1**(gamma)+Z2**(gamma))\n",
    "    return(bde)"
   ]
  },
  {
   "cell_type": "markdown",
   "id": "8d2bd3ec-6736-48ab-b43d-7018a04304fa",
   "metadata": {},
   "source": [
    "#### individually optimized $\\gamma$ for each row"
   ]
  },
  {
   "cell_type": "code",
   "execution_count": null,
   "id": "2ace1c2e-33fd-4af2-92b4-657976d89322",
   "metadata": {},
   "outputs": [],
   "source": [
    "b2_nl = BDE.fromdict(data_2)\n",
    "b3_nl = BDE.fromdict(data_3)\n",
    "b4_nl = BDE.fromdict(data_4)\n",
    "\n",
    "\n",
    "p2 = [15, 24,  1.9]\n",
    "p3 = [19.81710356, 24.92342986,  1.22294599]\n",
    "p4 = [33.3052603 , 24.97639216,  0.90171214]\n",
    "\n",
    "maes = []\n",
    "for gamma in np.linspace(0.5, 4, 50):\n",
    "    mae_row = []\n",
    "    for b, p0 in zip([b2_nl, b3_nl, b4_nl], [p2, p3, p4]):\n",
    "\n",
    "        b.non_linear_fit(non_linear_model_eq18, p0=p0)\n",
    "        rounded_MAE = np.round((np.abs(b.bde-b.bde_fitted)).mean(),2)\n",
    "        rounded_MAE_std = np.round(rounded_MAE/b.bde.std(), 2)\n",
    "        mae_row.append((np.abs(b.bde-b.bde_fitted)).mean())\n",
    "    maes.append(mae_row)"
   ]
  },
  {
   "cell_type": "markdown",
   "id": "83d87567-acc0-495f-a9fd-b273ab809e13",
   "metadata": {},
   "source": [
    "#### $\\gamma$-exponent independent of the row"
   ]
  },
  {
   "cell_type": "code",
   "execution_count": null,
   "id": "0a514dfc-3361-4e03-9d20-3e4ea14b6f7b",
   "metadata": {},
   "outputs": [],
   "source": [
    "gammas = []\n",
    "MAEs= []\n",
    "# do non linear fits\n",
    "b2_nl = BDE.fromdict(data_2)\n",
    "b3_nl = BDE.fromdict(data_3)\n",
    "b4_nl = BDE.fromdict(data_4)\n",
    "for gamma in np.linspace(0.5, 4, 50):\n",
    "    overall_mae = []\n",
    "    \n",
    "    p2 = [15, 24,  1.9]\n",
    "    p3 = [19.81710356, 24.92342986,  1.22294599]\n",
    "    p4 = [33.3052603 , 24.97639216,  0.90171214]\n",
    "    \n",
    "    for b, p0 in zip([b2_nl, b3_nl, b4_nl], [p2, p3, p4]):\n",
    "\n",
    "        b.non_linear_fit(non_linear_model_eq18, p0=p0)\n",
    "        #print('MAE = ' + str((np.abs(b.bde-b.bde_fitted)).mean()))\n",
    "        rounded_MAE = np.round((np.abs(b.bde-b.bde_fitted)).mean(),2)\n",
    "        rounded_MAE_std = np.round(rounded_MAE/b.bde.std(), 2)\n",
    "#         print(f'MAE = {rounded_MAE} ({rounded_MAE_std})')\n",
    "        overall_mae.append((np.abs(b.bde-b.bde_fitted)).mean())\n",
    "    MAE = (np.array(overall_mae)).mean()\n",
    "    #print(f'gamma = {gamma}, MAE = {MAE}')\n",
    "    \n",
    "    gammas.append(gamma)\n",
    "    MAEs.append(MAE)"
   ]
  },
  {
   "cell_type": "code",
   "execution_count": null,
   "id": "068c7433-0b91-471a-80fb-ae67100e90ca",
   "metadata": {},
   "outputs": [],
   "source": [
    "gamma_val = np.linspace(0.5, 4, 50)\n",
    "fig, ax = plt.subplots(1,1)\n",
    "ax.plot(gamma_val, np.array(maes)[:,0], label = 'row 2')\n",
    "ax.plot(gamma_val, np.array(maes)[:,1], label = 'row 3')\n",
    "ax.plot(gamma_val, np.array(maes)[:,2], label = 'row 4')\n",
    "\n",
    "ax.plot(gammas, MAEs, '--', label = 'all rows')\n",
    "\n",
    "ax.vlines(7/3, 0.8, 10, linestyles = '--', linewidth = 1, color= 'tab:gray')\n",
    "ax.legend(frameon= False, bbox_to_anchor = (1.05,1))\n",
    "ax.set_ylim([0.8, 10.4])\n",
    "ax.set_xticks([1,2,7/3,3,4])\n",
    "ax.set_xticklabels(['1','2','7/3','3','4'])\n",
    "ax.set_xlabel(r'$\\gamma$')\n",
    "ax.set_ylabel('MAE (kcal/mol)')"
   ]
  },
  {
   "cell_type": "markdown",
   "id": "15594a8c-ad39-4248-99e9-83c33b4d670f",
   "metadata": {},
   "source": [
    "### Optimization parameters of our model Eq. (2)"
   ]
  },
  {
   "cell_type": "code",
   "execution_count": null,
   "id": "531c164c-db7f-43d4-8441-9c5c618abaa1",
   "metadata": {},
   "outputs": [],
   "source": [
    "def our_model_eq2(var, a, b, c):\n",
    "    Z1, Z2 = var.T\n",
    "    gamma = 7/3\n",
    "    bde = a**2 - b**2*Z1*Z2 + c**2*(Z1**(gamma)+Z2**(gamma))\n",
    "    return(bde)\n",
    "\n",
    "# do linear fits\n",
    "b2_nl = BDE.fromdict(data_2)\n",
    "b3_nl = BDE.fromdict(data_3)\n",
    "b4_nl = BDE.fromdict(data_4)\n",
    "\n",
    "for b in [b2_nl, b3_nl, b4_nl]:\n",
    "    b.non_linear_fit(our_model_eq2, p0 = [33.3052603 , 24.97639216,  0.90171214])\n",
    "    #print('MAE = ' + str((np.abs(b.bde-b.bde_fitted)).mean()))\n",
    "    rounded_MAE = np.round((np.abs(b.bde-b.bde_fitted)).mean(),2)\n",
    "    rounded_MAE_std = np.round(rounded_MAE/b.bde.std(), 2)\n",
    "    print(f'MAE = {rounded_MAE} ({rounded_MAE_std})')"
   ]
  },
  {
   "cell_type": "code",
   "execution_count": null,
   "id": "969f7391-cd74-4502-b79f-7c720defcb2f",
   "metadata": {},
   "outputs": [],
   "source": [
    "a_param = []\n",
    "b_param =[]\n",
    "c_param=[]\n",
    "for b in [b2_nl, b3_nl, b4_nl]:\n",
    "    a_param.append(b.params[0][0])\n",
    "    b_param.append(b.params[0][1])\n",
    "    c_param.append(b.params[0][2])\n",
    "    \n",
    "a_param = np.array(a_param)**2\n",
    "b_param =np.array(b_param)**2\n",
    "c_param=np.array(c_param)**2\n",
    "print(a_param)\n",
    "print(b_param)\n",
    "print(c_param)"
   ]
  },
  {
   "cell_type": "markdown",
   "id": "3f8f52b3-4d12-41b1-880e-6a2a6de71a23",
   "metadata": {},
   "source": [
    "### Optimization of parameters in Eq. (25)"
   ]
  },
  {
   "cell_type": "code",
   "execution_count": 2,
   "id": "8e829305-86cf-4fe1-90f2-50149940b82d",
   "metadata": {},
   "outputs": [],
   "source": [
    "def model_deltaE_eq7(var, eta, kappa, mu):\n",
    "    ZA, ZB, ZC, n = var.T\n",
    "    deltaZ = ZC - ZB\n",
    "    deltaE = ( eta*(n-1) + ((n-3)**2 + kappa)*ZA )*deltaZ + mu*(ZB**2-ZC**2)\n",
    "    return(deltaE)"
   ]
  },
  {
   "cell_type": "code",
   "execution_count": 3,
   "id": "c8adc950-d9b1-4473-9eea-7d71cfc0fe51",
   "metadata": {},
   "outputs": [],
   "source": [
    "data = pd.read_csv('./binding_energies_pbe0.csv')\n",
    "\n",
    "Z_ref_dict = {2:[6,7,8,9], 3:[14,15,16,17], 4:[32,33,34,35]}\n",
    "\n",
    "# calculate relative energies for reference data\n",
    "# collect tuples Z_ABC: (ZA, ZB, ZC, row_number)\n",
    "Z_ABC = []\n",
    "deltaE_ref = []\n",
    "for n in [2,3,4]:\n",
    "    Z_ref = Z_ref_dict[n]\n",
    "    for ZA in Z_ref:\n",
    "            for ZB in Z_ref:\n",
    "                for ZC in Z_ref:\n",
    "                    if ZB<ZC:\n",
    "                        if ZA <= ZB:\n",
    "                            E_AB = -630*data.loc[(data['Z1']==ZA) & (data['Z2']==ZB), 'bfe'].item()\n",
    "                        else:\n",
    "                            E_AB = -630*data.loc[(data['Z1']==ZB) & (data['Z2']==ZA), 'bfe'].item()\n",
    "                        if ZA <= ZC:\n",
    "                            E_AC = -630*data.loc[(data['Z1']==ZA) & (data['Z2']==ZC), 'bfe'].item()\n",
    "                        else:\n",
    "                            E_AC = -630*data.loc[(data['Z1']==ZC) & (data['Z2']==ZA), 'bfe'].item()\n",
    "\n",
    "                        Z_ABC.append([ZA, ZB, ZC, n])\n",
    "                        deltaE_ref.append(E_AB - E_AC)\n",
    "\n",
    "Z_ABC = np.array(Z_ABC)\n",
    "deltaE_ref = np.array(deltaE_ref)"
   ]
  },
  {
   "cell_type": "code",
   "execution_count": 5,
   "id": "020c9f4c-c70f-4098-8d64-2bf6f80f5a31",
   "metadata": {},
   "outputs": [
    {
     "name": "stdout",
     "output_type": "stream",
     "text": [
      "[27.46471278  7.73446031  5.5672527 ]\n",
      "MAE = 4.263142705925952 kcal/mol\n"
     ]
    }
   ],
   "source": [
    "# fit\n",
    "p0 = [1,1,1]\n",
    "out = curve_fit(model_deltaE_eq7, Z_ABC, deltaE_ref, p0)\n",
    "print(out[0])\n",
    "\n",
    "deltaE_fitted = model_deltaE_eq7(Z_ABC, *out[0])\n",
    "mae = (np.abs(deltaE_fitted-deltaE_ref)).mean()\n",
    "print(f'MAE = {mae} kcal/mol')"
   ]
  },
  {
   "cell_type": "code",
   "execution_count": 8,
   "id": "dc2a2dea-cc7b-4023-86cc-9d43a3cae59e",
   "metadata": {},
   "outputs": [
    {
     "name": "stdout",
     "output_type": "stream",
     "text": [
      "MAE = 4.227588540816827 kcal/mol\n"
     ]
    }
   ],
   "source": [
    "# choose integer coefficicients in range of optimal coefficients\n",
    "deltaE_fitted = model_deltaE_eq7(Z_ABC, 28, 8.5, 6)\n",
    "mae = (np.abs(deltaE_fitted-deltaE_ref)).mean()\n",
    "print(f'MAE = {mae} kcal/mol')"
   ]
  },
  {
   "cell_type": "markdown",
   "id": "06986eb5-b1dd-4500-b1b0-bc197be0d6dc",
   "metadata": {},
   "source": [
    "### Recalibration to binding energies of double bonds"
   ]
  },
  {
   "cell_type": "code",
   "execution_count": 66,
   "id": "9f9ec42d-d26a-4fa4-8d76-9b6e16d9352a",
   "metadata": {},
   "outputs": [],
   "source": [
    "def our_model_eq2(var, a, b, c):\n",
    "    Z1, Z2 = var.T\n",
    "    gamma = 7/3\n",
    "    bde = a**2 - b**2*Z1*Z2 + c**2*(Z1**(gamma)+Z2**(gamma))\n",
    "    return(bde)"
   ]
  },
  {
   "cell_type": "code",
   "execution_count": 69,
   "id": "875a1be9-153e-487e-8c96-8c962586557d",
   "metadata": {},
   "outputs": [
    {
     "name": "stdout",
     "output_type": "stream",
     "text": [
      "############################\n",
      "Row 2\n",
      "Energy difference: bde_TS: MAE = 0.9476184941805906 kcal/mol\n",
      "Energy difference: bde_GS: MAE = 7.390428721398692 kcal/mol\n",
      "Energy difference: bde_TT: MAE = 7.295680777124287 kcal/mol\n",
      "Energy difference: bde_SS: MAE = 8.167122911261155 kcal/mol\n",
      "############################\n",
      "Row 3\n",
      "Energy difference: bde_TS: MAE = 1.3468270017713664 kcal/mol\n",
      "Energy difference: bde_GS: MAE = 1.5587564014477333 kcal/mol\n",
      "Energy difference: bde_TT: MAE = 13.761890884085757 kcal/mol\n",
      "Energy difference: bde_SS: MAE = 12.874242572636176 kcal/mol\n",
      "############################\n",
      "Row 4\n",
      "Energy difference: bde_TS: MAE = 1.9770280951557144 kcal/mol\n",
      "Energy difference: bde_GS: MAE = 1.8884093806738527 kcal/mol\n",
      "Energy difference: bde_TT: MAE = 10.454982961217143 kcal/mol\n",
      "Energy difference: bde_SS: MAE = 12.564665065686148 kcal/mol\n"
     ]
    },
    {
     "name": "stderr",
     "output_type": "stream",
     "text": [
      "/home/sahre/opt/miniconda3/envs/qm-tools/lib/python3.9/site-packages/scipy/optimize/_minpack_py.py:833: OptimizeWarning: Covariance of the parameters could not be estimated\n",
      "  warnings.warn('Covariance of the parameters could not be estimated',\n"
     ]
    }
   ],
   "source": [
    "for row in [2,3,4]:\n",
    "    print('############################')\n",
    "    print(f'Row {row}')\n",
    "    for etype in ['bde_TS', 'bde_GS', 'bde_TT', 'bde_SS']:\n",
    "        dataframe = pd.read_csv(f'./binding_energies_db_row_{row}.csv')\n",
    "        datadict = {'Z1':dataframe['Z1'].to_numpy(), 'Z2':dataframe['Z2'].to_numpy(), 'bfe':-dataframe[etype].to_numpy(), 'unit':630}\n",
    "\n",
    "        db = BDE.fromdict(datadict)\n",
    "        db.non_linear_fit(our_model_eq2, p0 = [15,3.16,1.41])\n",
    "        print(f'Energy difference: {etype}: MAE = {db.mae} kcal/mol')"
   ]
  },
  {
   "cell_type": "markdown",
   "id": "cf619434-e38d-4106-8ba2-a2238481b77d",
   "metadata": {},
   "source": [
    "### Performance of model for random data (Section F)"
   ]
  },
  {
   "cell_type": "code",
   "execution_count": 80,
   "id": "638c4496-65c8-4ae1-824e-8f21b1cf86ac",
   "metadata": {},
   "outputs": [],
   "source": [
    "from scipy.stats import linregress\n",
    "\n",
    "def our_model_eq2(var, a, b, c):\n",
    "    Z1, Z2 = var.T\n",
    "    gamma = 7/3\n",
    "    bde = a**2 - b**2*Z1*Z2 + c**2*(Z1**(gamma)+Z2**(gamma))\n",
    "    return(bde)\n",
    "\n",
    "# fit random set of points from uniform distribution to our model\n",
    "def error_random2(model, N, shift):\n",
    "    \"\"\"\n",
    "    the function picks 6 random data points from a uniform distribution in the same energy range as model\n",
    "    and optimizes the parameters of our model Eq. (2) to this dataset\n",
    "    this procedures is repeated N times and the errors for all N datasets are returned\n",
    "    model: BDE object for certain energy difference (TS, GS, ...)\n",
    "    \"\"\"\n",
    "    low = (model.bde).mean()-shift\n",
    "    high = (model.bde).mean()+shift\n",
    "\n",
    "    errors = []\n",
    "    for n in range(N):\n",
    "\n",
    "        control_energy = (np.random.uniform(low=low, high=high, size=6))/630\n",
    "        control_data = {'smiles': ['CC', 'CN', 'CO', 'NN', 'NO', 'OO'],\n",
    "         'Z1': model.Z1,\n",
    "         'Z2': model.Z2,\n",
    "         'bfe': -control_energy,\n",
    "         'unit': 630,\n",
    "         'bfe type': 'homo'}\n",
    "\n",
    "        control = BDE.fromdict(control_data)\n",
    "        control.non_linear_fit(our_model_eq2, p0 = [1,1,1])\n",
    "        errors.append((np.abs(control.bde_fitted-control.bde)).mean())\n",
    "\n",
    "    errors = np.array(errors)\n",
    "    return(errors)"
   ]
  },
  {
   "cell_type": "code",
   "execution_count": 81,
   "id": "c5896c16-cfb8-4af1-9504-7e97f272dd1f",
   "metadata": {},
   "outputs": [],
   "source": [
    "row = 2\n",
    "etype = 'bde_TS'\n",
    "dataframe = pd.read_csv(f'./binding_energies_db_row_{row}.csv')\n",
    "datadict = {'Z1':dataframe['Z1'].to_numpy(), 'Z2':dataframe['Z2'].to_numpy(), 'bfe':-dataframe[etype].to_numpy(), 'unit':630}\n",
    "\n",
    "db = BDE.fromdict(datadict)"
   ]
  },
  {
   "cell_type": "code",
   "execution_count": 88,
   "id": "97223248-4dab-464b-adf3-f483c869c252",
   "metadata": {},
   "outputs": [
    {
     "name": "stderr",
     "output_type": "stream",
     "text": [
      "/home/sahre/opt/miniconda3/envs/qm-tools/lib/python3.9/site-packages/scipy/optimize/_minpack_py.py:833: OptimizeWarning: Covariance of the parameters could not be estimated\n",
      "  warnings.warn('Covariance of the parameters could not be estimated',\n"
     ]
    }
   ],
   "source": [
    "N = 1000\n",
    "bde_range = np.arange(0, 130, 30)\n",
    "errors = []\n",
    "for shift in bde_range:\n",
    "    errors.append(error_random2(db, N, shift))\n",
    "    \n",
    "mean_errors = []\n",
    "std_errors = []\n",
    "for e in errors:\n",
    "    mean_errors.append(e.mean())\n",
    "    std_errors.append(e.std())\n",
    "out = linregress(bde_range, mean_errors)\n",
    "out_std = linregress(bde_range, std_errors)"
   ]
  },
  {
   "cell_type": "code",
   "execution_count": 87,
   "id": "578e4ae4-24fc-46b5-b98a-ab4bdeb3d8f2",
   "metadata": {},
   "outputs": [
    {
     "data": {
      "text/plain": [
       "[<matplotlib.lines.Line2D at 0x7fb10fbc1fa0>]"
      ]
     },
     "execution_count": 87,
     "metadata": {},
     "output_type": "execute_result"
    },
    {
     "data": {
      "image/png": "[encoded data removed]",
      "text/plain": [
       "<Figure size 432x288 with 2 Axes>"
      ]
     },
     "metadata": {
      "needs_background": "light"
     },
     "output_type": "display_data"
    }
   ],
   "source": [
    "fig, ax = plt.subplots(1,2)\n",
    "ax[0].plot(bde_range, mean_errors, 'o')\n",
    "ax[0].plot(bde_range, bde_range*out[0]+out[1], '--')\n",
    "\n",
    "ax[1].plot(bde_range, std_errors, 'o')\n",
    "ax[1].plot(bde_range, bde_range*out_std[0]+out_std[1], '--')"
   ]
  },
  {
   "cell_type": "code",
   "execution_count": 89,
   "id": "6edc4f47-11bc-4e70-8823-4fd44a9f0f1d",
   "metadata": {},
   "outputs": [],
   "source": [
    "def error_uni_model(models, out, out_std, bde_range):\n",
    "    fig, ax = plt.subplots(1,1)\n",
    "    ax.plot(bde_range, bde_range*out[0]+out[1], '--', color = 'tab:gray')\n",
    "\n",
    "    labels = ['TS', 'GS', 'TT', 'SS']\n",
    "    colors = ['tab:blue', 'tab:orange', 'tab:green', 'tab:red']\n",
    "\n",
    "    for model,l , c in zip(models,labels, colors):\n",
    "        deltaE = np.amax(model.bde)-np.amin(model.bde)\n",
    "        mae = (np.abs(model.bde-model.bde_fitted)).mean()\n",
    "        ax.scatter(deltaE, deltaE*out[0]+out[1], color = c)\n",
    "        ax.errorbar(deltaE, deltaE*out[0]+out[1], yerr=deltaE*out_std[0]+out_std[1], color = c)\n",
    "        ax.scatter(deltaE, mae, marker = 'v', label = l, color = c)\n",
    "    ax.legend(frameon = False)\n",
    "    ax.spines['right'].set_visible(False)\n",
    "    ax.spines['top'].set_visible(False)\n",
    "    ax.set_xlabel(r'$E^{\\rm{max}}_{\\rm{AB}}-E^{\\rm{min}}_{\\rm{AB}}$ (kcal/mol)')\n",
    "    ax.set_ylabel(r'MAE (kcal/mol)')\n",
    "    return(fig, ax)"
   ]
  },
  {
   "cell_type": "code",
   "execution_count": 91,
   "id": "712b815b-658f-46f8-b898-8157748e32e2",
   "metadata": {},
   "outputs": [
    {
     "data": {
      "text/plain": [
       "(<Figure size 432x288 with 1 Axes>,\n",
       " <AxesSubplot:xlabel='$E^{\\\\rm{max}}_{\\\\rm{AB}}-E^{\\\\rm{min}}_{\\\\rm{AB}}$ (kcal/mol)', ylabel='MAE (kcal/mol)'>)"
      ]
     },
     "execution_count": 91,
     "metadata": {},
     "output_type": "execute_result"
    },
    {
     "data": {
      "image/png": "[encoded data removed]",
      "text/plain": [
       "<Figure size 432x288 with 1 Axes>"
      ]
     },
     "metadata": {
      "needs_background": "light"
     },
     "output_type": "display_data"
    }
   ],
   "source": [
    "row = 2\n",
    "energy_differences = []\n",
    "for etype in ['bde_TS', 'bde_GS', 'bde_TT', 'bde_SS']:\n",
    "    dataframe = pd.read_csv(f'./binding_energies_db_row_{row}.csv')\n",
    "    datadict = {'Z1':dataframe['Z1'].to_numpy(), 'Z2':dataframe['Z2'].to_numpy(), 'bfe':-dataframe[etype].to_numpy(), 'unit':630}\n",
    "\n",
    "    db = BDE.fromdict(datadict)\n",
    "    db.non_linear_fit(our_model_eq2, p0 = [15,3.16,1.41])\n",
    "    energy_differences.append(db)\n",
    "error_uni_model(energy_differences, out, out_std, bde_range)\n"
   ]
  },
  {
   "cell_type": "code",
   "execution_count": 92,
   "id": "c4b026f9-2e4b-4c7d-ad2a-7b468c1211ec",
   "metadata": {},
   "outputs": [
    {
     "data": {
      "text/plain": [
       "(<Figure size 432x288 with 1 Axes>,\n",
       " <AxesSubplot:xlabel='$E^{\\\\rm{max}}_{\\\\rm{AB}}-E^{\\\\rm{min}}_{\\\\rm{AB}}$ (kcal/mol)', ylabel='MAE (kcal/mol)'>)"
      ]
     },
     "execution_count": 92,
     "metadata": {},
     "output_type": "execute_result"
    },
    {
     "data": {
      "image/png": "[encoded data removed]",
      "text/plain": [
       "<Figure size 432x288 with 1 Axes>"
      ]
     },
     "metadata": {
      "needs_background": "light"
     },
     "output_type": "display_data"
    }
   ],
   "source": [
    "row = 3\n",
    "energy_differences = []\n",
    "for etype in ['bde_TS', 'bde_GS', 'bde_TT', 'bde_SS']:\n",
    "    dataframe = pd.read_csv(f'./binding_energies_db_row_{row}.csv')\n",
    "    datadict = {'Z1':dataframe['Z1'].to_numpy(), 'Z2':dataframe['Z2'].to_numpy(), 'bfe':-dataframe[etype].to_numpy(), 'unit':630}\n",
    "\n",
    "    db = BDE.fromdict(datadict)\n",
    "    db.non_linear_fit(our_model_eq2, p0 = [15,3.16,1.41])\n",
    "    energy_differences.append(db)\n",
    "error_uni_model(energy_differences, out, out_std, bde_range)\n"
   ]
  },
  {
   "cell_type": "code",
   "execution_count": 94,
   "id": "e9798c50-86b9-4759-a49d-6b3e9ff8034f",
   "metadata": {},
   "outputs": [
    {
     "name": "stderr",
     "output_type": "stream",
     "text": [
      "/home/sahre/opt/miniconda3/envs/qm-tools/lib/python3.9/site-packages/scipy/optimize/_minpack_py.py:833: OptimizeWarning: Covariance of the parameters could not be estimated\n",
      "  warnings.warn('Covariance of the parameters could not be estimated',\n"
     ]
    },
    {
     "data": {
      "text/plain": [
       "(<Figure size 432x288 with 1 Axes>,\n",
       " <AxesSubplot:xlabel='$E^{\\\\rm{max}}_{\\\\rm{AB}}-E^{\\\\rm{min}}_{\\\\rm{AB}}$ (kcal/mol)', ylabel='MAE (kcal/mol)'>)"
      ]
     },
     "execution_count": 94,
     "metadata": {},
     "output_type": "execute_result"
    },
    {
     "data": {
      "image/png": "[encoded data removed]",
      "text/plain": [
       "<Figure size 432x288 with 1 Axes>"
      ]
     },
     "metadata": {
      "needs_background": "light"
     },
     "output_type": "display_data"
    }
   ],
   "source": [
    "row = 4\n",
    "energy_differences = []\n",
    "for etype in ['bde_TS', 'bde_GS', 'bde_TT', 'bde_SS']:\n",
    "    dataframe = pd.read_csv(f'./binding_energies_db_row_{row}.csv')\n",
    "    datadict = {'Z1':dataframe['Z1'].to_numpy(), 'Z2':dataframe['Z2'].to_numpy(), 'bfe':-dataframe[etype].to_numpy(), 'unit':630}\n",
    "\n",
    "    db = BDE.fromdict(datadict)\n",
    "    db.non_linear_fit(our_model_eq2, p0 = [15,3.16,1.41])\n",
    "    energy_differences.append(db)\n",
    "error_uni_model(energy_differences, out, out_std, bde_range)\n"
   ]
  }
 ],
 "metadata": {
  "kernelspec": {
   "display_name": "Python 3 (ipykernel)",
   "language": "python",
   "name": "python3"
  },
  "language_info": {
   "codemirror_mode": {
    "name": "ipython",
    "version": 3
   },
   "file_extension": ".py",
   "mimetype": "text/x-python",
   "name": "python",
   "nbconvert_exporter": "python",
   "pygments_lexer": "ipython3",
   "version": "3.9.10"
  }
 },
 "nbformat": 4,
 "nbformat_minor": 5
}
