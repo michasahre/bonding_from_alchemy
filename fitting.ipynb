{
 "cells": [
  {
   "cell_type": "code",
   "execution_count": 2,
   "id": "8e4cfca0-1479-48b3-b14f-78564e0e536c",
   "metadata": {},
   "outputs": [],
   "source": [
    "import pandas as pd\n",
    "import numpy as np\n",
    "from scipy.optimize import curve_fit\n",
    "from matplotlib import pyplot as plt"
   ]
  },
  {
   "cell_type": "code",
   "execution_count": 3,
   "id": "616d352e-bfbc-43fc-b2a5-7a02822212be",
   "metadata": {},
   "outputs": [],
   "source": [
    "# classes to perform the fitting to the linear and non-linear model\n",
    "\n",
    "class BDE():\n",
    "    def __init__(self, energies, nuc_charges, unit = 'kcal'):\n",
    "        if unit == 'kcal':\n",
    "            ha2kcal = 630\n",
    "        elif unit == 'atomic':\n",
    "            ha2kcal = 1\n",
    "        # define energies\n",
    "        self.bde = -energies[:,0]*ha2kcal\n",
    "        self.bfe = energies[:,0]*ha2kcal\n",
    "        self.ebfe = energies[:,1]*ha2kcal\n",
    "        self.nbfe = energies[:,2]*ha2kcal\n",
    "        \n",
    "        # define charge combinations Z1, Z2\n",
    "        self.nuc_charges = nuc_charges\n",
    "#         if row == 2:\n",
    "#             self.nuc_charges = [6, 7, 8, 9]\n",
    "#         elif row == 3:\n",
    "#             self.nuc_charges = [14, 15, 16, 17]\n",
    "#         elif row == 4:\n",
    "#             self.nuc_charges = [32, 33, 34, 35]\n",
    "        self.init_xdata(self.nuc_charges)\n",
    "        \n",
    "    def fit(self, model, p0 = None):\n",
    "        if p0 is not None:\n",
    "            self.params = curve_fit(model, self.xdata, self.ebfe, p0, maxfev=100000)\n",
    "        else:\n",
    "            self.params = curve_fit(model, self.xdata, self.ebfe)\n",
    "        \n",
    "        self.ebfe_fitted = model(self.xdata, *self.params[0])\n",
    "        self.bde_fitted = -(self.ebfe_fitted + self.nbfe)\n",
    "        self.mae = np.abs(self.bde_fitted-self.bde).mean()\n",
    "    \n",
    "    def init_xdata(self, nuc_charges):\n",
    "        self.xdata = []\n",
    "        for i in range(len(nuc_charges)):\n",
    "            for j in range(i, len(nuc_charges)):\n",
    "                self.xdata.append([nuc_charges[i], nuc_charges[j]])\n",
    "        self.xdata = np.array(self.xdata)\n",
    "    \n",
    "    def get_coeff_mat(self):\n",
    "        num_eq = len(self.ebfe)\n",
    "        num_coeffs = 2*len(self.nuc_charges)\n",
    "        self.coeff_mat = np.zeros((num_eq, num_coeffs))\n",
    "        \n",
    "        ind_a = []\n",
    "        for i in range(len(self.nuc_charges)):\n",
    "            for j in range(i, len(self.nuc_charges)):\n",
    "                ind_a.append([i, j])\n",
    "        \n",
    "        for i, z, a in zip(range(num_eq), self.xdata, ind_a):\n",
    "            # set a\n",
    "            self.coeff_mat[i][a[0]] += 1\n",
    "            self.coeff_mat[i][a[1]] += 1\n",
    "            # set b, the index can be calculated from the indices for a\n",
    "            b = [a[0]+len(self.nuc_charges), a[1]+len(self.nuc_charges)]\n",
    "            self.coeff_mat[i][b[0]] += z[1]\n",
    "            self.coeff_mat[i][b[1]] += z[0]\n",
    "        return(self.coeff_mat)\n",
    "\n",
    "    def linear_fit(self):\n",
    "        self.linear_params, mae_waste, self.linear_rank, self.linear_sg = np.linalg.lstsq(self.get_coeff_mat(), self.ebfe, rcond=None)\n",
    "        self.ebfe_fitted = self.linear_params@self.coeff_mat.T\n",
    "        self.bfe_fitted = self.ebfe_fitted + self.nbfe\n",
    "        self.bde_fitted = -self.bfe_fitted\n",
    "        self.linear_mae = np.abs(self.bde_fitted - self.bde).mean()\n",
    "        \n",
    "    def train(self, tr_ind, model, p0 = None):\n",
    "        if p0 is not None:\n",
    "            self.params_tr = curve_fit(model, self.xdata[tr_ind], self.ebfe[tr_ind], p0, maxfev=100000)\n",
    "        else:\n",
    "            self.params_tr = curve_fit(model, self.xdata[tr_ind], self.ebfe[tr_ind])\n",
    "\n",
    "        self.ebfe_fitted_tr = model(self.xdata[tr_ind], *self.params_tr[0])\n",
    "        self.bde_fitted_tr = -(self.ebfe_fitted_tr + self.nbfe[tr_ind])\n",
    "        self.mae_tr = np.abs(self.bde_fitted_tr-self.bde[tr_ind]).mean()\n",
    "\n",
    "    def predict(self, test_ind, model):\n",
    "        self.ebfe_fitted_test = model(self.xdata[test_ind], *self.params_tr[0])\n",
    "        self.bde_fitted_test = -(self.ebfe_fitted_test + self.nbfe[test_ind])\n",
    "        self.mae_test = np.abs(self.bde_fitted_test-self.bde[test_ind]).mean()\n",
    "\n",
    "        \n",
    "class BDE_clean(BDE):\n",
    "    def __init__(self,bfe, bde, ebfe, nbfe, Z1, Z2, xdata):\n",
    "        self.bfe = bfe\n",
    "        self.bde = bde\n",
    "        self.ebfe = ebfe\n",
    "        self.nbfe = nbfe\n",
    "        self.Z1 = Z1\n",
    "        self.Z2 = Z2\n",
    "        self.xdata = xdata\n",
    "        \n",
    "    @classmethod\n",
    "    def fromdict(cls, datadict):\n",
    "        # get units\n",
    "        if 'unit' in datadict.keys():\n",
    "            e_unit = datadict['unit']\n",
    "        else:\n",
    "            e_unit = 1 # use Hartree as energy unit\n",
    "            \n",
    "        # bond energy\n",
    "#         if datadict['bfe type'] == 'isodesmic':\n",
    "#             bfe = np.array(datadict['bfe isodesmic'])*e_unit\n",
    "#         else:\n",
    "        bfe = np.array(datadict['bfe'])*e_unit # homolytic set to default\n",
    "        bde = -bfe\n",
    "        \n",
    "        # nuclear charges\n",
    "        Z1 = np.array(datadict['Z1'])\n",
    "        Z2 = np.array(datadict['Z2'])\n",
    "        \n",
    "        # nuclear repulsion\n",
    "        if 'nbfe' in datadict.keys():\n",
    "            nbfe = np.array(datadict['nbfe'])*e_unit\n",
    "        else:\n",
    "            nbfe = Z1*Z2*e_unit\n",
    "            \n",
    "        # electronic bond energy\n",
    "        ebfe = bfe - nbfe\n",
    "        \n",
    "        # xdata\n",
    "        xdata = np.array([Z1, Z2]).T\n",
    "        return(cls(bfe, bde, ebfe, nbfe, Z1, Z2, xdata))\n",
    "    \n",
    "    def get_coeff_mat(self):\n",
    "        \"\"\"\n",
    "        matrix with coefficients for linear fit\n",
    "        \"\"\"\n",
    "        \n",
    "        unique_Z = np.sort(np.unique(np.concatenate((self.Z1, self.Z2))))\n",
    "        index_a = dict(zip(unique_Z, np.arange(len(unique_Z))))\n",
    "        index_b = dict(zip(unique_Z, np.arange(len(unique_Z), 2*len(unique_Z))))\n",
    "        coeff_mat = np.zeros((len(self.Z1), 2*len(unique_Z))) # there are two parameters for every element\n",
    "        \n",
    "        for row, Z1, Z2 in zip(range(len(self.Z1)), self.Z1, self.Z2):\n",
    "            # coefficients for Z1\n",
    "            coeff_mat[row, index_a[Z1]] += 1\n",
    "            coeff_mat[row, index_b[Z1]] += Z2\n",
    "            # coefficients for Z2\n",
    "            coeff_mat[row, index_a[Z2]] += 1\n",
    "            coeff_mat[row, index_b[Z2]] += Z1\n",
    "            \n",
    "        self.coeff_mat = coeff_mat\n",
    "        return(self.coeff_mat)"
   ]
  },
  {
   "cell_type": "markdown",
   "id": "e22ba407-6e7f-4dec-8f1e-b7007f850099",
   "metadata": {},
   "source": [
    "### load data"
   ]
  },
  {
   "cell_type": "code",
   "execution_count": 4,
   "id": "b978d81a-7f82-4b7f-b313-8a737c6f74f7",
   "metadata": {},
   "outputs": [],
   "source": [
    "data = pd.read_csv('/data/sahre/projects/atomic-energies/data/bonding_trends/pbe0_data/energies_homolytic.csv')\n",
    "data_2 = data.loc[(data['Z1'] >= 6) & (data['Z1'] <= 9) & (data['Z2'] >= 6) & (data['Z2'] <= 9)].to_dict('list')\n",
    "data_3 = data.loc[(data['Z1'] >= 14) & (data['Z2'] >= 14) & (data['Z1'] <= 17) & (data['Z2'] <= 17)].to_dict('list')\n",
    "data_4 = data.loc[(data['Z1'] >= 32) & (data['Z2'] >= 32) & (data['Z1'] <= 35) & (data['Z2'] <= 35)].to_dict('list')\n",
    "\n",
    "for d in [data_2, data_3, data_4]:\n",
    "    d['unit'] = 630\n",
    "    d['bfe type'] = 'homo'"
   ]
  },
  {
   "cell_type": "markdown",
   "id": "00b95f0a-a01c-4e5e-969d-ab26f802c72f",
   "metadata": {},
   "source": [
    "### linear model"
   ]
  },
  {
   "cell_type": "code",
   "execution_count": 5,
   "id": "bbdfa593-1e70-4358-9ae9-6ca9db62dd86",
   "metadata": {},
   "outputs": [
    {
     "name": "stdout",
     "output_type": "stream",
     "text": [
      "MAE = 0.51 (0.02)\n",
      "MAE = 0.39 (0.03)\n",
      "MAE = 0.33 (0.03)\n"
     ]
    }
   ],
   "source": [
    "b2 = BDE_clean.fromdict(data_2)\n",
    "b3 = BDE_clean.fromdict(data_3)\n",
    "b4 = BDE_clean.fromdict(data_4)\n",
    "for b in [b2, b3, b4]:\n",
    "    b.linear_fit()\n",
    "    rounded_MAE = np.round((np.abs(b.bde-b.bde_fitted)).mean(),2)\n",
    "    rounded_MAE_std = np.round(rounded_MAE/b.bde.std(), 2)\n",
    "    print(f'MAE = {rounded_MAE} ({rounded_MAE_std})')"
   ]
  },
  {
   "cell_type": "markdown",
   "id": "6cc467bd-5d95-4f9a-b8af-c937f02b15ac",
   "metadata": {},
   "source": [
    "### $\\gamma$-exponent non-linear model"
   ]
  },
  {
   "cell_type": "markdown",
   "id": "8d2bd3ec-6736-48ab-b43d-7018a04304fa",
   "metadata": {},
   "source": [
    "#### individually optimized $\\gamma$ for each row"
   ]
  },
  {
   "cell_type": "code",
   "execution_count": 6,
   "id": "2ace1c2e-33fd-4af2-92b4-657976d89322",
   "metadata": {},
   "outputs": [
    {
     "name": "stderr",
     "output_type": "stream",
     "text": [
      "/home/sahre/opt/miniconda3/envs/qm-tools/lib/python3.9/site-packages/scipy/optimize/_minpack_py.py:833: OptimizeWarning: Covariance of the parameters could not be estimated\n",
      "  warnings.warn('Covariance of the parameters could not be estimated',\n"
     ]
    }
   ],
   "source": [
    "def non_linear_model(var, a, b, c):\n",
    "    Z1, Z2 = var.T\n",
    "#     gamma = 7/3\n",
    "    ebfe = -a**2 - b**2*Z1*Z2 - c**2*(Z1**(gamma)+Z2**(gamma))\n",
    "    return(ebfe)\n",
    "\n",
    "b2_nl = BDE_clean.fromdict(data_2)\n",
    "b3_nl = BDE_clean.fromdict(data_3)\n",
    "b4_nl = BDE_clean.fromdict(data_4)\n",
    "\n",
    "\n",
    "p2 = [15, 24,  1.9]\n",
    "p3 = [19.81710356, 24.92342986,  1.22294599]\n",
    "p4 = [33.3052603 , 24.97639216,  0.90171214]\n",
    "\n",
    "maes = []\n",
    "for gamma in np.linspace(0.5, 4, 50):\n",
    "    mae_row = []\n",
    "    for b, p0 in zip([b2_nl, b3_nl, b4_nl], [p2, p3, p4]):\n",
    "\n",
    "        b.fit(non_linear_model, p0=p0)\n",
    "        #print('MAE = ' + str((np.abs(b.bde-b.bde_fitted)).mean()))\n",
    "        rounded_MAE = np.round((np.abs(b.bde-b.bde_fitted)).mean(),2)\n",
    "        rounded_MAE_std = np.round(rounded_MAE/b.bde.std(), 2)\n",
    "#         print(rounded_MAE)\n",
    "#         print(b.params[0])\n",
    "        mae_row.append((np.abs(b.bde-b.bde_fitted)).mean())\n",
    "    maes.append(mae_row)"
   ]
  },
  {
   "cell_type": "markdown",
   "id": "83d87567-acc0-495f-a9fd-b273ab809e13",
   "metadata": {},
   "source": [
    "#### one $\\gamma$-exponent for all rows"
   ]
  },
  {
   "cell_type": "code",
   "execution_count": 7,
   "id": "0a514dfc-3361-4e03-9d20-3e4ea14b6f7b",
   "metadata": {},
   "outputs": [],
   "source": [
    "def non_linear_model(var, a, b, c):\n",
    "    Z1, Z2 = var.T\n",
    "#     gamma = 7/3\n",
    "    ebfe = -a**2 - b**2*Z1*Z2 - c**2*(Z1**(gamma)+Z2**(gamma))\n",
    "    return(ebfe)\n",
    "gammas = []\n",
    "MAEs= []\n",
    "# do non linear fits\n",
    "b2_nl = BDE_clean.fromdict(data_2)\n",
    "b3_nl = BDE_clean.fromdict(data_3)\n",
    "b4_nl = BDE_clean.fromdict(data_4)\n",
    "for gamma in np.linspace(0.5, 4, 50):\n",
    "    overall_mae = []\n",
    "    \n",
    "    p2 = [14.68820305, 24.89036038,  1.40953664]\n",
    "    p3 = [19.81710356, 24.92342986,  1.22294599]\n",
    "    p4 = [33.3052603 , 24.97639216,  0.90171214]\n",
    "    \n",
    "    for b, p0 in zip([b2_nl, b3_nl, b4_nl], [p2, p3, p4]):\n",
    "\n",
    "        b.fit(non_linear_model, p0=p0)\n",
    "        #print('MAE = ' + str((np.abs(b.bde-b.bde_fitted)).mean()))\n",
    "        rounded_MAE = np.round((np.abs(b.bde-b.bde_fitted)).mean(),2)\n",
    "        rounded_MAE_std = np.round(rounded_MAE/b.bde.std(), 2)\n",
    "#         print(f'MAE = {rounded_MAE} ({rounded_MAE_std})')\n",
    "        overall_mae.append((np.abs(b.bde-b.bde_fitted)).mean())\n",
    "    MAE = (np.array(overall_mae)).mean()\n",
    "    #print(f'gamma = {gamma}, MAE = {MAE}')\n",
    "    \n",
    "    gammas.append(gamma)\n",
    "    MAEs.append(MAE)"
   ]
  },
  {
   "cell_type": "code",
   "execution_count": 8,
   "id": "d1210ac5-1d09-41d0-bf4b-6d16f780b083",
   "metadata": {},
   "outputs": [
    {
     "data": {
      "text/plain": [
       "Text(0, 0.5, 'MAE (kcal/mol)')"
      ]
     },
     "execution_count": 8,
     "metadata": {},
     "output_type": "execute_result"
    },
    {
     "data": {
      "image/png": "[encoded data removed]",
      "text/plain": [
       "<Figure size 432x288 with 1 Axes>"
      ]
     },
     "metadata": {
      "needs_background": "light"
     },
     "output_type": "display_data"
    }
   ],
   "source": [
    "gamma_val = np.linspace(0.5, 4, 50)\n",
    "fig, ax = plt.subplots(1,1)\n",
    "ax.plot(gamma_val, np.array(maes)[:,0], label = 'row 2')\n",
    "ax.plot(gamma_val, np.array(maes)[:,1], label = 'row 3')\n",
    "ax.plot(gamma_val, np.array(maes)[:,2], label = 'row 4')\n",
    "\n",
    "ax.plot(gammas, MAEs, '--', label = 'all rows')\n",
    "\n",
    "ax.vlines(7/3, 0.8, 10, linestyles = '--', linewidth = 1, color= 'tab:gray')\n",
    "ax.legend(frameon= False, bbox_to_anchor = (1.05,1))\n",
    "ax.set_ylim([0.8, 10.4])\n",
    "ax.set_xticks([1,2,7/3,3,4])\n",
    "ax.set_xticklabels(['1','2','7/3','3','4'])\n",
    "ax.set_xlabel(r'$\\gamma$')\n",
    "ax.set_ylabel('MAE (kcal/mol)')"
   ]
  },
  {
   "cell_type": "markdown",
   "id": "15594a8c-ad39-4248-99e9-83c33b4d670f",
   "metadata": {},
   "source": [
    "### non-linear model"
   ]
  },
  {
   "cell_type": "code",
   "execution_count": 9,
   "id": "531c164c-db7f-43d4-8441-9c5c618abaa1",
   "metadata": {},
   "outputs": [
    {
     "name": "stdout",
     "output_type": "stream",
     "text": [
      "MAE = 1.0 (0.04)\n",
      "MAE = 2.35 (0.17)\n",
      "MAE = 2.17 (0.21)\n"
     ]
    }
   ],
   "source": [
    "def non_linear_model(var, a, b, c):\n",
    "    Z1, Z2 = var.T\n",
    "    gamma = 7/3\n",
    "    ebfe = -a**2 - b**2*Z1*Z2 - c**2*(Z1**(gamma)+Z2**(gamma))\n",
    "    return(ebfe)\n",
    "\n",
    "# do linear fits\n",
    "b2_nl = BDE_clean.fromdict(data_2)\n",
    "b3_nl = BDE_clean.fromdict(data_3)\n",
    "b4_nl = BDE_clean.fromdict(data_4)\n",
    "\n",
    "for b in [b2_nl, b3_nl, b4_nl]:\n",
    "    b.fit(non_linear_model, p0 = [33.3052603 , 24.97639216,  0.90171214])\n",
    "    #print('MAE = ' + str((np.abs(b.bde-b.bde_fitted)).mean()))\n",
    "    rounded_MAE = np.round((np.abs(b.bde-b.bde_fitted)).mean(),2)\n",
    "    rounded_MAE_std = np.round(rounded_MAE/b.bde.std(), 2)\n",
    "    print(f'MAE = {rounded_MAE} ({rounded_MAE_std})')"
   ]
  }
 ],
 "metadata": {
  "kernelspec": {
   "display_name": "Python 3 (ipykernel)",
   "language": "python",
   "name": "python3"
  },
  "language_info": {
   "codemirror_mode": {
    "name": "ipython",
    "version": 3
   },
   "file_extension": ".py",
   "mimetype": "text/x-python",
   "name": "python",
   "nbconvert_exporter": "python",
   "pygments_lexer": "ipython3",
   "version": "3.9.10"
  }
 },
 "nbformat": 4,
 "nbformat_minor": 5
}
